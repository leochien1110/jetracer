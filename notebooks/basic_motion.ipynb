{
 "cells": [
  {
   "cell_type": "markdown",
   "metadata": {},
   "source": [
    "Execute the following block of code by selecting it and clicking ``ctrl + enter`` to create an ``NvidiaRacecar`` class.  "
   ]
  },
  {
   "cell_type": "code",
   "execution_count": 1,
   "metadata": {},
   "outputs": [
    {
     "name": "stdout",
     "output_type": "stream",
     "text": [
      "False\n"
     ]
    }
   ],
   "source": [
    "from jetracer.nvidia_racecar import NvidiaRacecar\n",
    "import time\n",
    "\n",
    "car = NvidiaRacecar()\n",
    "print(car.debug_enabled)"
   ]
  },
  {
   "cell_type": "markdown",
   "metadata": {},
   "source": [
    "The ``NvidiaRacecar`` implements the ``Racecar`` class, so it has two attributes ``throttle`` and ``steering``. \n",
    "\n",
    "We can assign values in the range ``[-1, 1]`` to these attributes.  Execute the following to set the steering to 0.4.\n",
    "\n",
    "> If the car does not respond, it may still be in ``manual`` mode.  Flip the manual override switch on the RC transmitter."
   ]
  },
  {
   "cell_type": "markdown",
   "metadata": {},
   "source": [
    "## Test the control units"
   ]
  },
  {
   "cell_type": "code",
   "execution_count": 4,
   "metadata": {},
   "outputs": [
    {
     "name": "stdout",
     "output_type": "stream",
     "text": [
      "Set steering to -0.7\n",
      "Set steering to -0.63\n",
      "Set steering to -0.56\n",
      "Set steering to -0.49\n",
      "Set steering to -0.42\n",
      "Set steering to -0.35\n",
      "Set steering to -0.28\n",
      "Set steering to -0.21\n",
      "Set steering to -0.14\n",
      "Set steering to -0.07\n",
      "Set steering to 0.0\n",
      "Set steering to 0.07\n",
      "Set steering to 0.14\n",
      "Set steering to 0.21\n",
      "Set steering to 0.28\n",
      "Set steering to 0.35\n",
      "Set steering to 0.42\n",
      "Set steering to 0.49\n",
      "Set steering to 0.56\n",
      "Set steering to 0.63\n",
      "Set steering to 0.7\n",
      "Steering reset to 0.0\n"
     ]
    }
   ],
   "source": [
    "# Control parameters for testing\n",
    "steering_range = 0.7  # Maximum steering value (range: -steering_range to +steering_range)\n",
    "step = 10  # Number of steps in each direction (total steps = 2*step + 1)\n",
    "delay = 0.1  # Delay between each step in seconds\n",
    "\n",
    "for steering_value in [round(x * (steering_range / step), 2) for x in range(-step, step + 1)]:\n",
    "    car.steering = steering_value\n",
    "    print(f\"Set steering to {steering_value}\")\n",
    "    time.sleep(delay)\n",
    "\n",
    "# Reset steering to center\n",
    "car.steering = 0.0\n",
    "print(\"Steering reset to 0.0\")\n"
   ]
  },
  {
   "cell_type": "code",
   "execution_count": 5,
   "metadata": {},
   "outputs": [
    {
     "name": "stdout",
     "output_type": "stream",
     "text": [
      "Throttle: 0.05\n",
      "Throttle: 0.1\n",
      "Throttle: 0.15000000000000002\n",
      "Throttle: 0.2\n",
      "Throttle: 0.25\n",
      "Throttle: 0.30000000000000004\n",
      "Throttle: 0.35000000000000003\n",
      "Throttle: 0.4\n",
      "Throttle: 0.45\n",
      "Throttle: 0.5\n",
      "Throttle: -0.5\n",
      "Throttle: 0.5\n",
      "Throttle: -0.4\n",
      "Throttle: 0.4\n",
      "Throttle: -0.3\n",
      "Throttle: 0.3\n",
      "Throttle: -0.19999999999999996\n",
      "Throttle: 0.19999999999999996\n",
      "Throttle: -0.09999999999999998\n",
      "Throttle: 0.09999999999999998\n"
     ]
    }
   ],
   "source": [
    "car.throttle = 0.0\n",
    "time.sleep(2)\n",
    "\n",
    "min_throttle = -0.5\n",
    "max_throttle = 0.5\n",
    "step = 0.05\n",
    "\n",
    "# move it from 0 to max_throttle\n",
    "for i in range(int(max_throttle / step)):\n",
    "    car.throttle = (i+1) * step\n",
    "    print(f\"Throttle: {car.throttle}\")\n",
    "    time.sleep(1)\n",
    "\n",
    "step = 0.1\n",
    "# shift back and forth, e.g. 0.1, -0.1, 0.2, -0.2, 0.3, -0.3, 0.4, -0.4, 0.5, -0.5\n",
    "for i in range(5):\n",
    "    car.throttle = min_throttle + i * step\n",
    "    print(f\"Throttle: {car.throttle}\")\n",
    "    time.sleep(2)\n",
    "    \n",
    "    car.throttle = max_throttle - i * step\n",
    "    print(f\"Throttle: {car.throttle}\")\n",
    "    time.sleep(2)\n",
    "    \n",
    "car.throttle = 0.0"
   ]
  },
  {
   "cell_type": "code",
   "execution_count": null,
   "metadata": {},
   "outputs": [],
   "source": [
    "# Test parameters\n",
    "throttle_range = 0.5  # Reduced for safety\n",
    "step = 8  # Fewer steps for safer testing\n",
    "delay = 0.8  # Longer delay to observe direction\n",
    "\n",
    "for throttle_value in [round(x * (throttle_range / step), 2) for x in range(-step, step + 1)]:\n",
    "    direction = \"BACKWARD\" if throttle_value < 0 else \"FORWARD\" if throttle_value > 0 else \"STOP\"\n",
    "    print(f\"Setting throttle: {throttle_value:+.2f} → Expected: {direction}\")\n",
    "    car.throttle = throttle_value\n",
    "    time.sleep(delay)\n",
    "\n",
    "# Reset throttle to stop\n",
    "car.throttle = 0.0\n",
    "print(\"\\n✅ Throttle reset to 0.0 - Car stopped\")\n"
   ]
  },
  {
   "cell_type": "raw",
   "metadata": {
    "vscode": {
     "languageId": "raw"
    }
   },
   "source": [
    "## 🤖 NEW: Automatic ESC Direction Change\n",
    "\n",
    "**Great news!** The `NvidiaRacecar` class now automatically handles ESC double-click reverse sequences for you!\n",
    "\n",
    "### How it works:\n",
    "- **Before**: You had to manually do: forward → brake → neutral → reverse\n",
    "- **Now**: Just set `car.throttle = -0.3` and the system automatically performs the ESC sequence!\n",
    "\n",
    "### Automatic Sequence:\n",
    "1. **Direction Change Detected** 🔄 (e.g., forward → reverse)\n",
    "2. **Auto-Brake** 🛑 (0.5 seconds)\n",
    "3. **Auto-Neutral** ⚠️ (0.5 seconds) \n",
    "4. **Final Direction** ✅ (your desired throttle)\n",
    "\n",
    "### Benefits:\n",
    "- ✅ **Intuitive**: Just set positive/negative throttle values\n",
    "- ✅ **Automatic**: No manual ESC sequences needed\n",
    "- ✅ **Safe**: Built-in timing and state management\n",
    "- ✅ **Debug-friendly**: Status monitoring included\n",
    "\n",
    "**Test it below!** 👇\"\n"
   ]
  },
  {
   "cell_type": "code",
   "execution_count": null,
   "metadata": {},
   "outputs": [],
   "source": [
    "# Make sure the car is stopped\n",
    "car.throttle = 0.0"
   ]
  },
  {
   "cell_type": "code",
   "execution_count": null,
   "metadata": {},
   "outputs": [],
   "source": [
    "# Test automatic ESC direction change handling\n",
    "print(\"🧪 Testing AUTOMATIC ESC Direction Change...\")\n",
    "print(\"⚠️  Make sure the car has plenty of space!\")\n",
    "print(\"🤖 The car will now automatically handle ESC sequences!\")\n",
    "\n",
    "# 1. Move forward\n",
    "print(\"\\n1️⃣ Moving forward...\")\n",
    "car.throttle = 0.3\n",
    "time.sleep(3)\n",
    "\n",
    "# 2. Change to reverse - this will AUTOMATICALLY trigger:\n",
    "#    brake -> neutral (0.5s) -> reverse sequence\n",
    "print(\"\\n2️⃣ Changing to REVERSE (watch automatic sequence)...\")\n",
    "car.throttle = -0.3  # System automatically handles ESC sequence!\n",
    "time.sleep(4)  # Give time for automatic sequence to complete\n",
    "\n",
    "# 3. Change back to forward - another automatic sequence\n",
    "print(\"\\n3️⃣ Changing back to FORWARD (automatic sequence again)...\")\n",
    "car.throttle = 0.2   # System automatically handles ESC sequence!\n",
    "time.sleep(4)  # Give time for automatic sequence to complete\n",
    "\n",
    "# 4. Stop\n",
    "print(\"\\n4️⃣ Stopping...\")\n",
    "car.throttle = 0.0\n",
    "print(\"✅ Automatic ESC test complete!\")\n",
    "print(\"🎉 No more manual brake sequences needed!\")\n"
   ]
  },
  {
   "cell_type": "code",
   "execution_count": null,
   "metadata": {},
   "outputs": [],
   "source": [
    "# Check the ESC status (new debugging feature)\n",
    "status = car.get_esc_status()\n",
    "print(\"🔍 Current ESC Status:\")\n",
    "for key, value in status.items():\n",
    "    print(f\"   {key}: {value}\")\n",
    "    \n",
    "print(f\"\\n📊 Quick Status: Currently {status['current_direction']}, \"\n",
    "      f\"Desired throttle: {status['desired_throttle']:.3f}\")\n",
    "\n",
    "if status['is_changing_direction']:\n",
    "    print(\"⚠️  Direction change in progress...\")\n",
    "else:\n",
    "    print(\"✅ Ready for commands\")\n"
   ]
  },
  {
   "cell_type": "markdown",
   "metadata": {},
   "source": [
    "The ``NvidiaRacecar`` class has two values ``steering_gain`` and ``steering_bias`` that can be used to calibrate the steering.\n",
    "\n",
    "We can view the default values by executing the cells below."
   ]
  },
  {
   "cell_type": "code",
   "execution_count": null,
   "metadata": {},
   "outputs": [],
   "source": [
    "print(car.steering_gain)"
   ]
  },
  {
   "cell_type": "code",
   "execution_count": null,
   "metadata": {},
   "outputs": [],
   "source": [
    "print(car.steering_offset)"
   ]
  },
  {
   "cell_type": "markdown",
   "metadata": {},
   "source": [
    "The final steering value is computed using the equation\n",
    "\n",
    "$y = a \\times x + b$\n",
    "\n",
    "Where,\n",
    "\n",
    "* $a$ is ``car.steering_gain``\n",
    "* $b$ is ``car.steering_offset``\n",
    "* $x$ is ``car.steering``\n",
    "* $y$ is the value written to the motor driver\n",
    "\n",
    "You can adjust these values calibrate the car so that setting a value of ``0`` moves forward, and setting a value of ``1`` goes fully right, and ``-1`` fully left."
   ]
  },
  {
   "cell_type": "markdown",
   "metadata": {},
   "source": [
    "To set the throttle of the car to ``0.2``, you can call the following.\n",
    "\n",
    "> Give JetRacer lots of space to move, and be ready on the manual override, JetRacer is *fast*"
   ]
  },
  {
   "cell_type": "code",
   "execution_count": null,
   "metadata": {},
   "outputs": [],
   "source": [
    "car.throttle = -0.0"
   ]
  },
  {
   "cell_type": "markdown",
   "metadata": {},
   "source": [
    "The throttle also has a gain value that could be used to control the speed response.  The throttle output is computed as\n",
    "\n",
    "$y = a \\times x$\n",
    "\n",
    "Where,\n",
    "\n",
    "* $a$ is ``car.throttle_gain``\n",
    "* $x$ is ``car.throttle``\n",
    "* $y$ is the value written to the speed controller\n",
    "\n",
    "Execute the following to print the default gain"
   ]
  },
  {
   "cell_type": "code",
   "execution_count": null,
   "metadata": {},
   "outputs": [],
   "source": [
    "print(car.throttle_gain)"
   ]
  },
  {
   "cell_type": "markdown",
   "metadata": {},
   "source": [
    "Set the following to limit the throttle to half"
   ]
  },
  {
   "cell_type": "code",
   "execution_count": null,
   "metadata": {},
   "outputs": [],
   "source": [
    "car.throttle_gain = 0.5"
   ]
  },
  {
   "cell_type": "markdown",
   "metadata": {},
   "source": [
    "## 🚗 ESC Double-Click Reverse Behavior\n",
    "\n",
    "**Important**: The JetRacer Pro uses an ESC (Electronic Speed Controller) that requires a \"double-click\" method for reversing:\n",
    "\n",
    "### Forward Movement:\n",
    "- **Positive throttle values** (e.g., 0.3) make the car move **forward** ✅\n",
    "\n",
    "### Reverse Movement (Double-Click Required):\n",
    "1. **First negative throttle** → **BRAKE ONLY** 🛑 (no reverse yet)\n",
    "2. **Return to neutral** (0.0) → **ESC READY** ⚠️ \n",
    "3. **Second negative throttle** → **ACTUAL REVERSE** ⬅️\n",
    "\n",
    "### Example Reverse Sequence:\n",
    "```python\n",
    "# Step 1: Apply negative throttle (this will BRAKE, not reverse)\n",
    "car.throttle = -0.3  # 🛑 BRAKE\n",
    "time.sleep(1)\n",
    "\n",
    "# Step 2: Return to neutral \n",
    "car.throttle = 0.0   # ⚠️ ESC READY FOR REVERSE\n",
    "time.sleep(0.5)\n",
    "\n",
    "# Step 3: Apply negative throttle again (this will REVERSE)\n",
    "car.throttle = -0.3  # ⬅️ ACTUAL REVERSE\n",
    "```\n",
    "\n",
    "### Troubleshooting:\n",
    "- If your car moves in the wrong direction, use `car.auto_calibrate_throttle_direction()` to fix it automatically.\n",
    "- Watch the console output for helpful state indicators: 🚗 FORWARD, 🛑 BRAKE, ⬅️ REVERSE, ⏸️ NEUTRAL"
   ]
  },
  {
   "cell_type": "raw",
   "metadata": {
    "vscode": {
     "languageId": "raw"
    }
   },
   "source": [
    "## Test Double-Click Reverse\n",
    "\n",
    "Run the cell below to test the ESC double-click reverse functionality:\n"
   ]
  },
  {
   "cell_type": "code",
   "execution_count": null,
   "metadata": {},
   "outputs": [],
   "source": [
    "# Test double-click reverse sequence\n",
    "print(\"🧪 Testing ESC Double-Click Reverse...\")\n",
    "print(\"⚠️  Make sure the car has plenty of space!\")\n",
    "\n",
    "# 1. Move forward first\n",
    "print(\"\\n1️⃣ Moving forward...\")\n",
    "car.throttle = 0.2\n",
    "time.sleep(2)\n",
    "\n",
    "# 2. First reverse command (brake only)\n",
    "print(\"\\n2️⃣ First reverse command (should brake, not reverse)...\")\n",
    "car.throttle = -0.3\n",
    "time.sleep(2)\n",
    "\n",
    "# 3. Return to neutral (ESC ready for reverse)\n",
    "print(\"\\n3️⃣ Returning to neutral (ESC preparing for reverse)...\")\n",
    "car.throttle = 0.0\n",
    "time.sleep(1)\n",
    "\n",
    "# 4. Second reverse command (actual reverse)\n",
    "print(\"\\n4️⃣ Second reverse command (should actually reverse now)...\")\n",
    "car.throttle = -0.3\n",
    "time.sleep(2)\n",
    "\n",
    "# 5. Stop\n",
    "print(\"\\n5️⃣ Stopping...\")\n",
    "car.throttle = 0.0\n",
    "print(\"✅ Test complete!\")\n"
   ]
  },
  {
   "cell_type": "raw",
   "metadata": {
    "vscode": {
     "languageId": "raw"
    }
   },
   "source": [
    "## Additional Notes\n",
    "\n",
    "### If the car still doesn't reverse:\n",
    "- Try the auto-calibration method: `car.auto_calibrate_throttle_direction()`\n",
    "- Check that the manual override switch on the RC transmitter is in the correct position\n",
    "- Ensure the ESC is properly configured for \"forward and reverse with brake\" mode\n",
    "\n",
    "### Monitoring ESC States:\n",
    "The console output will show helpful indicators:\n",
    "- 🚗 FORWARD: Car moving forward\n",
    "- 🛑 BRAKE: ESC is braking (first reverse command)\n",
    "- ⚠️ ESC READY FOR REVERSE: Ready for actual reverse\n",
    "- ⬅️ REVERSE: Car moving backward\n",
    "- ⏸️ NEUTRAL: Car stopped/neutral\n"
   ]
  },
  {
   "cell_type": "raw",
   "metadata": {
    "vscode": {
     "languageId": "raw"
    }
   },
   "source": [
    "# If the car moves in the wrong direction, run this calibration:\n",
    "# car.auto_calibrate_throttle_direction()\n"
   ]
  },
  {
   "cell_type": "markdown",
   "metadata": {},
   "source": [
    "That's it for this notebook!"
   ]
  }
 ],
 "metadata": {
  "kernelspec": {
   "display_name": ".venv",
   "language": "python",
   "name": "python3"
  },
  "language_info": {
   "codemirror_mode": {
    "name": "ipython",
    "version": 3
   },
   "file_extension": ".py",
   "mimetype": "text/x-python",
   "name": "python",
   "nbconvert_exporter": "python",
   "pygments_lexer": "ipython3",
   "version": "3.10.12"
  }
 },
 "nbformat": 4,
 "nbformat_minor": 4
}
